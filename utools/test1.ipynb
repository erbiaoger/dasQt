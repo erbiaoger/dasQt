{
 "cells": [
  {
   "cell_type": "code",
   "execution_count": 2,
   "metadata": {},
   "outputs": [],
   "source": [
    "from dasQt.logPy2 import Logger\n",
    "import yaml"
   ]
  },
  {
   "cell_type": "code",
   "execution_count": 3,
   "metadata": {},
   "outputs": [],
   "source": [
    "logger = Logger(fname=\"./__main__.py\", path='./').logger"
   ]
  },
  {
   "cell_type": "code",
   "execution_count": 4,
   "metadata": {},
   "outputs": [
    {
     "name": "stderr",
     "output_type": "stream",
     "text": [
      "2024-01-05 18:57:54 INFO\t__main__.py: 1\tStarting up...\n",
      "2024-01-05 18:57:54 INFO 279447919.py: 1 Starting up...\n"
     ]
    }
   ],
   "source": [
    "logger.info(\"Starting up...\")"
   ]
  },
  {
   "cell_type": "code",
   "execution_count": 5,
   "metadata": {},
   "outputs": [
    {
     "name": "stdout",
     "output_type": "stream",
     "text": [
      "This is get_current_function_name\n"
     ]
    }
   ],
   "source": [
    "import inspect\n",
    "\n",
    "def get_current_function_name():\n",
    "    return inspect.currentframe().f_code.co_name\n",
    "\n",
    "# Example usage\n",
    "def example_function():\n",
    "    print(f\"This is {get_current_function_name()}\")\n",
    "\n",
    "example_function()\n"
   ]
  },
  {
   "cell_type": "code",
   "execution_count": 6,
   "metadata": {},
   "outputs": [
    {
     "name": "stdout",
     "output_type": "stream",
     "text": [
      "hello\n"
     ]
    }
   ],
   "source": [
    "contral = 'print(\"hello\")'\n",
    "\n",
    "exec(contral, globals(), locals())"
   ]
  },
  {
   "cell_type": "code",
   "execution_count": null,
   "metadata": {},
   "outputs": [],
   "source": [
    "import sys\n",
    "from PyQt6.QtWidgets import QApplication, QWidget, QMessageBox, QVBoxLayout, QPushButton\n",
    "\n",
    "class App(QWidget):\n",
    "    def __init__(self):\n",
    "        super().__init__()\n",
    "\n",
    "        # 设置窗口的标题和大小\n",
    "        self.setWindowTitle(\"PyQt6 MessageBox Example\")\n",
    "        self.setGeometry(300, 300, 300, 200)\n",
    "\n",
    "        # 创建一个按钮，点击时会显示消息框\n",
    "        self.button = QPushButton(\"Show MessageBox\", self)\n",
    "        self.button.clicked.connect(self.show_message_box)\n",
    "\n",
    "        # 创建布局并添加按钮\n",
    "        layout = QVBoxLayout(self)\n",
    "        layout.addWidget(self.button)\n",
    "\n",
    "    def show_message_box(self):\n",
    "        # 创建并显示消息框\n",
    "        QMessageBox.warning(self, \"Message\", \"Please input again\")\n",
    "\n",
    "def main():\n",
    "    app = QApplication(sys.argv)\n",
    "    ex = App()\n",
    "    ex.show()\n",
    "    sys.exit(app.exec())\n",
    "\n",
    "if __name__ == '__main__':\n",
    "    main()\n"
   ]
  }
 ],
 "metadata": {
  "kernelspec": {
   "display_name": "base",
   "language": "python",
   "name": "python3"
  },
  "language_info": {
   "codemirror_mode": {
    "name": "ipython",
    "version": 3
   },
   "file_extension": ".py",
   "mimetype": "text/x-python",
   "name": "python",
   "nbconvert_exporter": "python",
   "pygments_lexer": "ipython3",
   "version": "3.11.4"
  }
 },
 "nbformat": 4,
 "nbformat_minor": 2
}
