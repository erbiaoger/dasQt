{
 "cells": [
  {
   "cell_type": "code",
   "execution_count": 12,
   "metadata": {},
   "outputs": [],
   "source": [
    "import pathlib\n",
    "from ultralytics import YOLO\n",
    "\n",
    "model = YOLO('./YOLO/best.pt')\n",
    "\n",
    "\n",
    "files = sorted(pathlib.Path('../figs').glob('*.png'))\n",
    "\n"
   ]
  },
  {
   "cell_type": "code",
   "execution_count": 13,
   "metadata": {},
   "outputs": [
    {
     "name": "stdout",
     "output_type": "stream",
     "text": [
      "\n",
      "0: 512x512 1 cars_long_weak, 1785.6ms\n",
      "1: 512x512 1 cars_long_weak, 1 cars_short, 1785.6ms\n",
      "2: 512x512 4 cars_long_weaks, 1785.6ms\n",
      "3: 512x512 3 cars_long_weaks, 1785.6ms\n",
      "4: 512x512 7 carss, 1 cars_long_weak, 1 cars_short, 1785.6ms\n",
      "5: 512x512 2 carss, 2 cars_long_weaks, 1 cars_short, 1785.6ms\n",
      "6: 512x512 7 carss, 6 cars_long_weaks, 1785.6ms\n",
      "7: 512x512 (no detections), 1785.6ms\n",
      "8: 512x512 (no detections), 1785.6ms\n",
      "9: 512x512 (no detections), 1785.6ms\n",
      "10: 512x512 (no detections), 1785.6ms\n",
      "11: 512x512 (no detections), 1785.6ms\n",
      "Speed: 3.6ms preprocess, 1785.6ms inference, 2.7ms postprocess per image at shape (1, 3, 512, 512)\n",
      "Results saved to \u001b[1mruns/segment/predict3\u001b[0m\n"
     ]
    }
   ],
   "source": [
    "results = model(files[2:], nms=True, iou=0.75, conf=0.65,save_dir='../figs/yolo/', save=True)"
   ]
  },
  {
   "cell_type": "code",
   "execution_count": 1,
   "metadata": {},
   "outputs": [],
   "source": [
    "from dasQt.utools.config import loadConfig, saveConfig\n",
    "\n",
    "config = loadConfig(\"/Users/zhiyuzhang/MyProjects/dasQt/dasQt/config/dispersion.json\")\n",
    "saveConfig(config, \"/Users/zhiyuzhang/MyProjects/dasQt/dasQt/config/process.json\")"
   ]
  },
  {
   "cell_type": "code",
   "execution_count": 2,
   "metadata": {},
   "outputs": [
    {
     "data": {
      "text/plain": [
       "{'scale': 1.421,\n",
       " 'auto_scale': True,\n",
       " 'virtual': True,\n",
       " 'level': 4,\n",
       " 'peace': 60,\n",
       " 'algo': 0}"
      ]
     },
     "execution_count": 2,
     "metadata": {},
     "output_type": "execute_result"
    }
   ],
   "source": [
    "config"
   ]
  },
  {
   "cell_type": "code",
   "execution_count": null,
   "metadata": {},
   "outputs": [],
   "source": []
  }
 ],
 "metadata": {
  "kernelspec": {
   "display_name": "dasQt",
   "language": "python",
   "name": "python3"
  },
  "language_info": {
   "codemirror_mode": {
    "name": "ipython",
    "version": 3
   },
   "file_extension": ".py",
   "mimetype": "text/x-python",
   "name": "python",
   "nbconvert_exporter": "python",
   "pygments_lexer": "ipython3",
   "version": "3.12.3"
  }
 },
 "nbformat": 4,
 "nbformat_minor": 2
}
